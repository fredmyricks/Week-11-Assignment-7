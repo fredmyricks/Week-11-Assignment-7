{
 "cells": [
  {
   "cell_type": "code",
   "execution_count": 6,
   "id": "initial_id",
   "metadata": {
    "collapsed": true,
    "ExecuteTime": {
     "end_time": "2024-02-17T17:37:37.338006200Z",
     "start_time": "2024-02-17T17:37:36.590686900Z"
    }
   },
   "outputs": [
    {
     "name": "stdout",
     "output_type": "stream",
     "text": [
      "                                            headline  \\\n",
      "0                How Michael Urie Spends His Sundays   \n",
      "1  It Is Not Dead Yet! ‘Spamalot’ Returns to Broa...   \n",
      "2                              Monty Python Reunion!   \n",
      "3  Monty Python Reunion! Monty Python Reunion! Mo...   \n",
      "4                           Piaf and Python in Paris   \n",
      "\n",
      "                       date                                            snippet  \n",
      "0  2023-12-23T08:00:24+0000  Urie, who is known for his work on “Ugly Betty...  \n",
      "1  2023-11-06T10:01:48+0000  The Monty Python-inspired show wants to give a...  \n",
      "2  2009-08-18T15:35:22+0000  What part of \"Monty Python reunion\" did you no...  \n",
      "3  2009-08-18T15:35:22+0000  What part of “Monty Python reunion” did you no...  \n",
      "4  2008-10-07T14:25:44+0000  Inside look at Azzedine Alaia's collection in ...  \n"
     ]
    }
   ],
   "source": [
    "import requests\n",
    "import pandas as pd\n",
    "\n",
    "# Set your API key here\n",
    "api_key = 'k51QQqgpvgnpCbRCy5o5GuOKbJAGalmm'\n",
    "\n",
    "# Define the base URL for the New York Times Article Search API\n",
    "base_url = 'https://api.nytimes.com/svc/search/v2/articlesearch.json'\n",
    "\n",
    "# Define your search parameters\n",
    "params = {\n",
    "    'q': 'Python',  # Example search query\n",
    "    'api-key': api_key\n",
    "}\n",
    "\n",
    "# Make a GET request to the API\n",
    "response = requests.get(base_url, params=params)\n",
    "\n",
    "# Check if the request was successful (status code 200)\n",
    "if response.status_code == 200:\n",
    "    # Parse the JSON response\n",
    "    data = response.json()\n",
    "    \n",
    "    # Extract relevant information from the response\n",
    "    articles = data['response']['docs']\n",
    "    \n",
    "    # Create a list to store the extracted data\n",
    "    articles_list = []\n",
    "    for article in articles:\n",
    "        # Extract the desired fields from each article\n",
    "        article_data = {\n",
    "            'headline': article['headline']['main'],\n",
    "            'date': article['pub_date'],\n",
    "            'snippet': article['snippet']\n",
    "        }\n",
    "        articles_list.append(article_data)\n",
    "    \n",
    "    # Convert the list of dictionaries into a pandas DataFrame\n",
    "    df = pd.DataFrame(articles_list)\n",
    "    \n",
    "    # Display the DataFrame\n",
    "    print(df.head())\n",
    "else:\n",
    "    print('Error fetching data from the API')\n"
   ]
  }
 ],
 "metadata": {
  "kernelspec": {
   "display_name": "Python 3",
   "language": "python",
   "name": "python3"
  },
  "language_info": {
   "codemirror_mode": {
    "name": "ipython",
    "version": 2
   },
   "file_extension": ".py",
   "mimetype": "text/x-python",
   "name": "python",
   "nbconvert_exporter": "python",
   "pygments_lexer": "ipython2",
   "version": "2.7.6"
  }
 },
 "nbformat": 4,
 "nbformat_minor": 5
}
